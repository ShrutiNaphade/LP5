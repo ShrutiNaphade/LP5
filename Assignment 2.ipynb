{
 "cells": [
  {
   "cell_type": "code",
   "execution_count": 1,
   "id": "4ac7b48b",
   "metadata": {},
   "outputs": [],
   "source": [
    "from keras.datasets import imdb"
   ]
  },
  {
   "cell_type": "code",
   "execution_count": 2,
   "id": "d3f525a5",
   "metadata": {},
   "outputs": [
    {
     "name": "stdout",
     "output_type": "stream",
     "text": [
      "Downloading data from https://storage.googleapis.com/tensorflow/tf-keras-datasets/imdb.npz\n",
      "17464789/17464789 [==============================] - 4s 0us/step\n"
     ]
    }
   ],
   "source": [
    "(train_data,train_label),(test_data,test_label) = imdb.load_data(num_words=10000)"
   ]
  },
  {
   "cell_type": "code",
   "execution_count": null,
   "id": "21946174",
   "metadata": {},
   "outputs": [],
   "source": [
    "import numpy as np\n",
    "\n",
    "def vectorize_sequences(sequences,dimensions=10000):\n",
    "    results = np.zeros((len(sequences),dimensions))..\n",
    "    for i,sequence in enumerate(sequences):\n",
    "        results[i,sequence]=1\n",
    "        \n",
    "    return results\n",
    "\n",
    "x_train = vectorize_sequences(train_data)\n",
    "x_test = vectorize_sequences(test_data)"
   ]
  },
  {
   "cell_type": "code",
   "execution_count": 4,
   "id": "45b1cd44",
   "metadata": {},
   "outputs": [],
   "source": [
    "y_train = np.asarray(train_label).astype('float32')\n",
    "y_test= np.asarray(test_label).astype('float32')"
   ]
  },
  {
   "cell_type": "code",
   "execution_count": 5,
   "id": "5e85c257",
   "metadata": {},
   "outputs": [
    {
     "name": "stdout",
     "output_type": "stream",
     "text": [
      "Model: \"sequential\"\n",
      "_________________________________________________________________\n",
      " Layer (type)                Output Shape              Param #   \n",
      "=================================================================\n",
      " dense (Dense)               (None, 16)                160016    \n",
      "                                                                 \n",
      " dense_1 (Dense)             (None, 16)                272       \n",
      "                                                                 \n",
      " dense_2 (Dense)             (None, 1)                 17        \n",
      "                                                                 \n",
      "=================================================================\n",
      "Total params: 160,305\n",
      "Trainable params: 160,305\n",
      "Non-trainable params: 0\n",
      "_________________________________________________________________\n"
     ]
    }
   ],
   "source": [
    "from keras.models import Sequential\n",
    "from keras.layers import Dense\n",
    "\n",
    "model = Sequential()\n",
    "\n",
    "model.add(Dense(16,input_shape=(10000,),activation='relu'))\n",
    "model.add(Dense(16,activation = 'relu'))\n",
    "model.add(Dense(1,activation = 'sigmoid'))\n",
    "\n",
    "model.compile(optimizer='adam',loss='mse',metrics=['accuracy'])\n",
    "\n",
    "model.summary()"
   ]
  },
  {
   "cell_type": "code",
   "execution_count": 6,
   "id": "6b0c2748",
   "metadata": {},
   "outputs": [
    {
     "name": "stdout",
     "output_type": "stream",
     "text": [
      "Epoch 1/20\n",
      "40/40 [==============================] - 4s 66ms/step - loss: 0.1729 - accuracy: 0.7808 - val_loss: 0.1104 - val_accuracy: 0.8780\n",
      "Epoch 2/20\n",
      "40/40 [==============================] - 1s 19ms/step - loss: 0.0829 - accuracy: 0.9096 - val_loss: 0.0891 - val_accuracy: 0.8862\n",
      "Epoch 3/20\n",
      "40/40 [==============================] - 1s 18ms/step - loss: 0.0591 - accuracy: 0.9342 - val_loss: 0.0824 - val_accuracy: 0.8916\n",
      "Epoch 4/20\n",
      "40/40 [==============================] - 1s 18ms/step - loss: 0.0452 - accuracy: 0.9510 - val_loss: 0.0821 - val_accuracy: 0.8898\n",
      "Epoch 5/20\n",
      "40/40 [==============================] - 1s 19ms/step - loss: 0.0356 - accuracy: 0.9639 - val_loss: 0.0842 - val_accuracy: 0.8844\n",
      "Epoch 6/20\n",
      "40/40 [==============================] - 1s 17ms/step - loss: 0.0300 - accuracy: 0.9700 - val_loss: 0.0860 - val_accuracy: 0.8856\n",
      "Epoch 7/20\n",
      "40/40 [==============================] - 1s 16ms/step - loss: 0.0243 - accuracy: 0.9783 - val_loss: 0.0889 - val_accuracy: 0.8814\n",
      "Epoch 8/20\n",
      "40/40 [==============================] - 1s 16ms/step - loss: 0.0200 - accuracy: 0.9829 - val_loss: 0.0906 - val_accuracy: 0.8820\n",
      "Epoch 9/20\n",
      "40/40 [==============================] - 1s 16ms/step - loss: 0.0155 - accuracy: 0.9876 - val_loss: 0.0935 - val_accuracy: 0.8800\n",
      "Epoch 10/20\n",
      "40/40 [==============================] - 1s 15ms/step - loss: 0.0122 - accuracy: 0.9909 - val_loss: 0.0953 - val_accuracy: 0.8786\n",
      "Epoch 11/20\n",
      "40/40 [==============================] - 1s 15ms/step - loss: 0.0097 - accuracy: 0.9926 - val_loss: 0.0970 - val_accuracy: 0.8762\n",
      "Epoch 12/20\n",
      "40/40 [==============================] - 1s 15ms/step - loss: 0.0079 - accuracy: 0.9940 - val_loss: 0.0987 - val_accuracy: 0.8766\n",
      "Epoch 13/20\n",
      "40/40 [==============================] - 1s 16ms/step - loss: 0.0070 - accuracy: 0.9946 - val_loss: 0.0997 - val_accuracy: 0.8760\n",
      "Epoch 14/20\n",
      "40/40 [==============================] - 1s 16ms/step - loss: 0.0061 - accuracy: 0.9948 - val_loss: 0.1007 - val_accuracy: 0.8744\n",
      "Epoch 15/20\n",
      "40/40 [==============================] - 1s 18ms/step - loss: 0.0055 - accuracy: 0.9953 - val_loss: 0.1019 - val_accuracy: 0.8736\n",
      "Epoch 16/20\n",
      "40/40 [==============================] - 1s 17ms/step - loss: 0.0051 - accuracy: 0.9955 - val_loss: 0.1026 - val_accuracy: 0.8734\n",
      "Epoch 17/20\n",
      "40/40 [==============================] - 1s 17ms/step - loss: 0.0049 - accuracy: 0.9956 - val_loss: 0.1035 - val_accuracy: 0.8722\n",
      "Epoch 18/20\n",
      "40/40 [==============================] - 1s 18ms/step - loss: 0.0047 - accuracy: 0.9956 - val_loss: 0.1042 - val_accuracy: 0.8722\n",
      "Epoch 19/20\n",
      "40/40 [==============================] - 1s 21ms/step - loss: 0.0045 - accuracy: 0.9957 - val_loss: 0.1049 - val_accuracy: 0.8704\n",
      "Epoch 20/20\n",
      "40/40 [==============================] - 1s 19ms/step - loss: 0.0044 - accuracy: 0.9959 - val_loss: 0.1053 - val_accuracy: 0.8710\n"
     ]
    }
   ],
   "source": [
    "history = model.fit(x_train,y_train,validation_split=0.2,epochs=20,verbose=1,batch_size=512)"
   ]
  },
  {
   "cell_type": "code",
   "execution_count": 7,
   "id": "2ce3900f",
   "metadata": {},
   "outputs": [
    {
     "name": "stdout",
     "output_type": "stream",
     "text": [
      "782/782 [==============================] - 2s 3ms/step - loss: 0.1134 - accuracy: 0.8602\n",
      "MSE  0.11344986408948898\n",
      "MAE  0.8601999878883362\n"
     ]
    }
   ],
   "source": [
    "mse,mae = model.evaluate(x_test,y_test)\n",
    "\n",
    "print('MSE ',mse)\n",
    "print('MAE ',mae)"
   ]
  },
  {
   "cell_type": "code",
   "execution_count": 8,
   "id": "081217f7",
   "metadata": {},
   "outputs": [
    {
     "name": "stdout",
     "output_type": "stream",
     "text": [
      "782/782 [==============================] - 2s 3ms/step\n"
     ]
    },
    {
     "data": {
      "text/plain": [
       "array([[0.06354035],\n",
       "       [0.99991846],\n",
       "       [0.00946359],\n",
       "       ...,\n",
       "       [0.02747527],\n",
       "       [0.00208146],\n",
       "       [0.12025256]], dtype=float32)"
      ]
     },
     "execution_count": 8,
     "metadata": {},
     "output_type": "execute_result"
    }
   ],
   "source": [
    "y_preds = model.predict(x_test)\n",
    "y_preds"
   ]
  },
  {
   "cell_type": "code",
   "execution_count": 9,
   "id": "1ee5e9a3",
   "metadata": {},
   "outputs": [
    {
     "data": {
      "text/plain": [
       "array([0., 1., 1., ..., 0., 0., 0.], dtype=float32)"
      ]
     },
     "execution_count": 9,
     "metadata": {},
     "output_type": "execute_result"
    }
   ],
   "source": [
    "y_test\n"
   ]
  },
  {
   "cell_type": "code",
   "execution_count": 10,
   "id": "8b1ae87b",
   "metadata": {},
   "outputs": [],
   "source": [
    "tests=[]\n",
    "for i in y_test:\n",
    "    tests.append(int(i))"
   ]
  },
  {
   "cell_type": "code",
   "execution_count": 11,
   "id": "a0e6132f",
   "metadata": {},
   "outputs": [],
   "source": [
    "preds=[]\n",
    "for i in y_preds:\n",
    "    if i[0]>0.5:\n",
    "        preds.append(1)\n",
    "    else:\n",
    "        preds.append(0)"
   ]
  },
  {
   "cell_type": "code",
   "execution_count": 12,
   "id": "930f9c26",
   "metadata": {},
   "outputs": [
    {
     "name": "stdout",
     "output_type": "stream",
     "text": [
      "0.8602\n",
      "0.8666232391499064\n",
      "0.85144\n"
     ]
    }
   ],
   "source": [
    "from sklearn.metrics import accuracy_score,precision_score,recall_score\n",
    "\n",
    "print(accuracy_score(tests,preds))\n",
    "print(precision_score(tests,preds))\n",
    "print(recall_score(tests,preds))"
   ]
  },
  {
   "cell_type": "code",
   "execution_count": 13,
   "id": "4f79d59a",
   "metadata": {},
   "outputs": [
    {
     "name": "stdout",
     "output_type": "stream",
     "text": [
      "Downloading data from https://storage.googleapis.com/tensorflow/tf-keras-datasets/imdb_word_index.json\n",
      "1641221/1641221 [==============================] - 1s 0us/step\n"
     ]
    }
   ],
   "source": [
    "word_index = imdb.get_word_index()"
   ]
  },
  {
   "cell_type": "code",
   "execution_count": 14,
   "id": "e1797a55",
   "metadata": {},
   "outputs": [],
   "source": [
    "def return_token(tid):\n",
    "    for k,v in word_index.items():\n",
    "        # We decode the review; note that our indices were offset by 3\n",
    "        # because 0, 1 and 2 are reserved indices for \"padding\", \"start of sequence\", and \"unknown\".\n",
    "        if v==tid-3:\n",
    "            return k\n",
    "    return '?'"
   ]
  },
  {
   "cell_type": "code",
   "execution_count": 15,
   "id": "6f60d14b",
   "metadata": {},
   "outputs": [],
   "source": [
    "def print_review(id_):\n",
    "    sentence = ' '.join(return_token(i) for i in train_data[id_])\n",
    "    return sentence"
   ]
  },
  {
   "cell_type": "code",
   "execution_count": 16,
   "id": "5194909f",
   "metadata": {},
   "outputs": [
    {
     "data": {
      "text/plain": [
       "\"? this film was just brilliant casting location scenery story direction everyone's really suited the part they played and you could just imagine being there robert ? is an amazing actor and now the same being director ? father came from the same scottish island as myself so i loved the fact there was a real connection with this film the witty remarks throughout the film were great it was just brilliant so much that i bought the film as soon as it was released for ? and would recommend it to everyone to watch and the fly fishing was amazing really cried at the end it was so sad and you know what they say if you cry at a film it must have been good and this definitely was also ? to the two little boy's that played the ? of norman and paul they were just brilliant children are often left out of the ? list i think because the stars that play them all grown up are such a big profile for the whole film but these children are amazing and should be praised for what they have done don't you think the whole story was so lovely because it was true and was someone's life after all that was shared with us all\""
      ]
     },
     "execution_count": 16,
     "metadata": {},
     "output_type": "execute_result"
    }
   ],
   "source": [
    "print_review(0)"
   ]
  },
  {
   "cell_type": "code",
   "execution_count": 17,
   "id": "e862ddc2",
   "metadata": {},
   "outputs": [
    {
     "data": {
      "text/plain": [
       "1"
      ]
     },
     "execution_count": 17,
     "metadata": {},
     "output_type": "execute_result"
    }
   ],
   "source": [
    "\n",
    "\n",
    "train_label[0]"
   ]
  },
  {
   "cell_type": "code",
   "execution_count": null,
   "id": "dbbe8046",
   "metadata": {},
   "outputs": [],
   "source": []
  }
 ],
 "metadata": {
  "kernelspec": {
   "display_name": "Python 3 (ipykernel)",
   "language": "python",
   "name": "python3"
  },
  "language_info": {
   "codemirror_mode": {
    "name": "ipython",
    "version": 3
   },
   "file_extension": ".py",
   "mimetype": "text/x-python",
   "name": "python",
   "nbconvert_exporter": "python",
   "pygments_lexer": "ipython3",
   "version": "3.9.7"
  }
 },
 "nbformat": 4,
 "nbformat_minor": 5
}
